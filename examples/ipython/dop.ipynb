{
 "metadata": {
  "name": ""
 },
 "nbformat": 3,
 "nbformat_minor": 0,
 "worksheets": [
  {
   "cells": [
    {
     "cell_type": "code",
     "collapsed": false,
     "input": [
      "from sympy import *\n",
      "from ga import Ga\n",
      "from printer import Format, Fmt\n",
      "Format()"
     ],
     "language": "python",
     "metadata": {},
     "outputs": [],
     "prompt_number": 1
    },
    {
     "cell_type": "code",
     "collapsed": false,
     "input": [
      "xyz_coords = (x, y, z) = symbols('x y z', real=True)\n",
      "(o3d, ex, ey, ez) = Ga.build('e', g=[1, 1, 1], coords=xyz_coords, norm=True)"
     ],
     "language": "python",
     "metadata": {},
     "outputs": [],
     "prompt_number": 2
    },
    {
     "cell_type": "code",
     "collapsed": false,
     "input": [
      "f = o3d.mv('f', 'scalar', f=True)\n",
      "F = o3d.mv('F', 'vector', f=True)\n",
      "lap = o3d.grad*o3d.grad"
     ],
     "language": "python",
     "metadata": {},
     "outputs": [],
     "prompt_number": 3
    },
    {
     "cell_type": "code",
     "collapsed": false,
     "input": [
      "lap.Fmt(1,r'\\nabla^{2}')"
     ],
     "language": "python",
     "metadata": {},
     "outputs": [
      {
       "latex": [
        "\\begin{equation*} \\nabla^{2} = \\frac{\\partial^{2}}{\\partial x^{2}} + \\frac{\\partial^{2}}{\\partial y^{2}} + \\frac{\\partial^{2}}{\\partial z^{2}} \\end{equation*}"
       ],
       "metadata": {},
       "output_type": "pyout",
       "prompt_number": 4,
       "text": [
        "\\frac{\\partial^{2}}{\\partial x^{2}} + \\frac{\\partial^{2}}{\\partial y^{2}} + \\frac{\\partial^{2}}{\\partial z^{2}}"
       ]
      }
     ],
     "prompt_number": 4
    },
    {
     "cell_type": "code",
     "collapsed": false,
     "input": [
      "(lap*f).Fmt(1,r'\\nabla^{2}f')"
     ],
     "language": "python",
     "metadata": {},
     "outputs": [
      {
       "latex": [
        "\\begin{equation*} \\nabla^{2}f = \\partial^{2}_{x} f  + \\partial^{2}_{y} f  + \\partial^{2}_{z} f  \\end{equation*}"
       ],
       "metadata": {},
       "output_type": "pyout",
       "prompt_number": 5,
       "text": [
        "\\partial^{2}_{x} f  + \\partial^{2}_{y} f  + \\partial^{2}_{z} f "
       ]
      }
     ],
     "prompt_number": 5
    },
    {
     "cell_type": "code",
     "collapsed": false,
     "input": [
      "o3d.grad | (o3d.grad * f)"
     ],
     "language": "python",
     "metadata": {},
     "outputs": [
      {
       "latex": [
        "\\begin{equation*} \\partial^{2}_{x} f  + \\partial^{2}_{y} f  + \\partial^{2}_{z} f  \\end{equation*}"
       ],
       "metadata": {},
       "output_type": "pyout",
       "prompt_number": 6,
       "text": [
        "\\partial^{2}_{x} f  + \\partial^{2}_{y} f  + \\partial^{2}_{z} f "
       ]
      }
     ],
     "prompt_number": 6
    },
    {
     "cell_type": "code",
     "collapsed": false,
     "input": [
      "o3d.grad|F"
     ],
     "language": "python",
     "metadata": {},
     "outputs": [
      {
       "latex": [
        "\\begin{equation*} \\partial_{x} F^{x}  + \\partial_{y} F^{y}  + \\partial_{z} F^{z}  \\end{equation*}"
       ],
       "metadata": {},
       "output_type": "pyout",
       "prompt_number": 7,
       "text": [
        "\\partial_{x} F^{x}  + \\partial_{y} F^{y}  + \\partial_{z} F^{z} "
       ]
      }
     ],
     "prompt_number": 7
    },
    {
     "cell_type": "code",
     "collapsed": false,
     "input": [
      "o3d.grad * F"
     ],
     "language": "python",
     "metadata": {},
     "outputs": [
      {
       "latex": [
        "\\begin{equation*} \\left ( \\partial_{x} F^{x}  + \\partial_{y} F^{y}  + \\partial_{z} F^{z} \\right )  + \\left ( - \\partial_{y} F^{x}  + \\partial_{x} F^{y} \\right ) e_{x}\\wedge e_{y} + \\left ( - \\partial_{z} F^{x}  + \\partial_{x} F^{z} \\right ) e_{x}\\wedge e_{z} + \\left ( - \\partial_{z} F^{y}  + \\partial_{y} F^{z} \\right ) e_{y}\\wedge e_{z} \\end{equation*}"
       ],
       "metadata": {},
       "output_type": "pyout",
       "prompt_number": 8,
       "text": [
        "\\left ( \\partial_{x} F^{x}  + \\partial_{y} F^{y}  + \\partial_{z} F^{z} \\right )  + \\left ( - \\partial_{y} F^{x}  + \\partial_{x} F^{y} \\right ) e_{x}\\wedge e_{y} + \\left ( - \\partial_{z} F^{x}  + \\partial_{x} F^{z} \\right ) e_{x}\\wedge e_{z} + \\left ( - \\partial_{z} F^{y}  + \\partial_{y} F^{z} \\right ) e_{y}\\wedge e_{z}"
       ]
      }
     ],
     "prompt_number": 8
    },
    {
     "cell_type": "code",
     "collapsed": false,
     "input": [
      "sph_coords = (r, th, phi) = symbols('r theta phi', real=True)\n",
      "(sp3d, er, eth, ephi) = Ga.build('e', g=[1, r**2, r**2 * sin(th)**2], coords=sph_coords, norm=True)"
     ],
     "language": "python",
     "metadata": {},
     "outputs": [],
     "prompt_number": 9
    },
    {
     "cell_type": "code",
     "collapsed": false,
     "input": [
      "f = sp3d.mv('f', 'scalar', f=True)\n",
      "F = sp3d.mv('F', 'vector', f=True)\n",
      "B = sp3d.mv('B', 'bivector', f=True)\n",
      "lap = sp3d.grad*sp3d.grad\n",
      "lap.Fmt(1,r'\\nabla^{2}')"
     ],
     "language": "python",
     "metadata": {},
     "outputs": [
      {
       "latex": [
        "\\begin{equation*} \\nabla^{2} = \\frac{2}{r} \\frac{\\partial}{\\partial r} + \\frac{\\cos{\\left (\\theta  \\right )}}{r^{2} \\sin{\\left (\\theta  \\right )}} \\frac{\\partial}{\\partial \\theta } + \\frac{\\partial^{2}}{\\partial r^{2}} + r^{-2} \\frac{\\partial^{2}}{\\partial \\theta ^{2}} + \\frac{1}{r^{2} \\sin^{2}{\\left (\\theta  \\right )}} \\frac{\\partial^{2}}{\\partial \\phi ^{2}} \\end{equation*}"
       ],
       "metadata": {},
       "output_type": "pyout",
       "prompt_number": 10,
       "text": [
        "\\frac{2}{r} \\frac{\\partial}{\\partial r} + \\frac{\\cos{\\left (\\theta  \\right )}}{r^{2} \\sin{\\left (\\theta  \\right )}} \\frac{\\partial}{\\partial \\theta } + \\frac{\\partial^{2}}{\\partial r^{2}} + r^{-2} \\frac{\\partial^{2}}{\\partial \\theta ^{2}} + \\frac{1}{r^{2} \\sin^{2}{\\left (\\theta  \\right )}} \\frac{\\partial^{2}}{\\partial \\phi ^{2}}"
       ]
      }
     ],
     "prompt_number": 10
    },
    {
     "cell_type": "code",
     "collapsed": false,
     "input": [
      "lap*f"
     ],
     "language": "python",
     "metadata": {},
     "outputs": [
      {
       "latex": [
        "\\begin{equation*} \\frac{1}{r^{2}} \\left(r^{2} \\partial^{2}_{r} f  + 2 r \\partial_{r} f  + \\partial^{2}_{\\theta } f  + \\frac{\\partial_{\\theta } f }{\\tan{\\left (\\theta  \\right )}} + \\frac{\\partial^{2}_{\\phi } f }{\\sin^{2}{\\left (\\theta  \\right )}}\\right) \\end{equation*}"
       ],
       "metadata": {},
       "output_type": "pyout",
       "prompt_number": 11,
       "text": [
        "\\frac{1}{r^{2}} \\left(r^{2} \\partial^{2}_{r} f  + 2 r \\partial_{r} f  + \\partial^{2}_{\\theta } f  + \\frac{\\partial_{\\theta } f }{\\tan{\\left (\\theta  \\right )}} + \\frac{\\partial^{2}_{\\phi } f }{\\sin^{2}{\\left (\\theta  \\right )}}\\right)"
       ]
      }
     ],
     "prompt_number": 11
    },
    {
     "cell_type": "code",
     "collapsed": false,
     "input": [
      "sp3d.grad | (sp3d.grad * f)"
     ],
     "language": "python",
     "metadata": {},
     "outputs": [
      {
       "latex": [
        "\\begin{equation*} \\frac{1}{r^{2}} \\left(r^{2} \\partial^{2}_{r} f  + 2 r \\partial_{r} f  + \\partial^{2}_{\\theta } f  + \\frac{\\partial_{\\theta } f }{\\tan{\\left (\\theta  \\right )}} + \\frac{\\partial^{2}_{\\phi } f }{\\sin^{2}{\\left (\\theta  \\right )}}\\right) \\end{equation*}"
       ],
       "metadata": {},
       "output_type": "pyout",
       "prompt_number": 12,
       "text": [
        "\\frac{1}{r^{2}} \\left(r^{2} \\partial^{2}_{r} f  + 2 r \\partial_{r} f  + \\partial^{2}_{\\theta } f  + \\frac{\\partial_{\\theta } f }{\\tan{\\left (\\theta  \\right )}} + \\frac{\\partial^{2}_{\\phi } f }{\\sin^{2}{\\left (\\theta  \\right )}}\\right)"
       ]
      }
     ],
     "prompt_number": 12
    },
    {
     "cell_type": "code",
     "collapsed": false,
     "input": [
      "sp3d.grad | F"
     ],
     "language": "python",
     "metadata": {},
     "outputs": [
      {
       "latex": [
        "\\begin{equation*} \\frac{1}{r} \\left(r \\partial_{r} F^{r}  + 2 F^{r}  + \\frac{F^{\\theta } }{\\tan{\\left (\\theta  \\right )}} + \\partial_{\\theta } F^{\\theta }  + \\frac{\\partial_{\\phi } F^{\\phi } }{\\sin{\\left (\\theta  \\right )}}\\right) \\end{equation*}"
       ],
       "metadata": {},
       "output_type": "pyout",
       "prompt_number": 13,
       "text": [
        "\\frac{1}{r} \\left(r \\partial_{r} F^{r}  + 2 F^{r}  + \\frac{F^{\\theta } }{\\tan{\\left (\\theta  \\right )}} + \\partial_{\\theta } F^{\\theta }  + \\frac{\\partial_{\\phi } F^{\\phi } }{\\sin{\\left (\\theta  \\right )}}\\right)"
       ]
      }
     ],
     "prompt_number": 13
    },
    {
     "cell_type": "code",
     "collapsed": false,
     "input": [
      "sp3d.grad ^ F"
     ],
     "language": "python",
     "metadata": {},
     "outputs": [
      {
       "latex": [
        "\\begin{equation*} \\frac{1}{r} \\left(r \\partial_{r} F^{\\theta }  + F^{\\theta }  - \\partial_{\\theta } F^{r} \\right) e_{r}\\wedge e_{\\theta } + \\frac{1}{r} \\left(r \\partial_{r} F^{\\phi }  + F^{\\phi }  - \\frac{\\partial_{\\phi } F^{r} }{\\sin{\\left (\\theta  \\right )}}\\right) e_{r}\\wedge e_{\\phi } + \\frac{1}{r} \\left(\\frac{F^{\\phi } }{\\tan{\\left (\\theta  \\right )}} + \\partial_{\\theta } F^{\\phi }  - \\frac{\\partial_{\\phi } F^{\\theta } }{\\sin{\\left (\\theta  \\right )}}\\right) e_{\\theta }\\wedge e_{\\phi } \\end{equation*}"
       ],
       "metadata": {},
       "output_type": "pyout",
       "prompt_number": 14,
       "text": [
        "\\frac{1}{r} \\left(r \\partial_{r} F^{\\theta }  + F^{\\theta }  - \\partial_{\\theta } F^{r} \\right) e_{r}\\wedge e_{\\theta } + \\frac{1}{r} \\left(r \\partial_{r} F^{\\phi }  + F^{\\phi }  - \\frac{\\partial_{\\phi } F^{r} }{\\sin{\\left (\\theta  \\right )}}\\right) e_{r}\\wedge e_{\\phi } + \\frac{1}{r} \\left(\\frac{F^{\\phi } }{\\tan{\\left (\\theta  \\right )}} + \\partial_{\\theta } F^{\\phi }  - \\frac{\\partial_{\\phi } F^{\\theta } }{\\sin{\\left (\\theta  \\right )}}\\right) e_{\\theta }\\wedge e_{\\phi }"
       ]
      }
     ],
     "prompt_number": 14
    },
    {
     "cell_type": "code",
     "collapsed": false,
     "input": [
      "sp3d.grad | B"
     ],
     "language": "python",
     "metadata": {},
     "outputs": [
      {
       "latex": [
        "\\begin{equation*} - \\frac{1}{r} \\left(\\frac{B^{r\\theta } }{\\tan{\\left (\\theta  \\right )}} + \\partial_{\\theta } B^{r\\theta }  + \\frac{\\partial_{\\phi } B^{r\\phi } }{\\sin{\\left (\\theta  \\right )}}\\right) e_{r} + \\frac{1}{r} \\left(r \\partial_{r} B^{r\\theta }  + B^{r\\theta }  - \\frac{\\partial_{\\phi } B^{\\phi \\phi } }{\\sin{\\left (\\theta  \\right )}}\\right) e_{\\theta } + \\frac{1}{r} \\left(r \\partial_{r} B^{r\\phi }  + B^{r\\phi }  + \\partial_{\\theta } B^{\\phi \\phi } \\right) e_{\\phi } \\end{equation*}"
       ],
       "metadata": {},
       "output_type": "pyout",
       "prompt_number": 15,
       "text": [
        "- \\frac{1}{r} \\left(\\frac{B^{r\\theta } }{\\tan{\\left (\\theta  \\right )}} + \\partial_{\\theta } B^{r\\theta }  + \\frac{\\partial_{\\phi } B^{r\\phi } }{\\sin{\\left (\\theta  \\right )}}\\right) e_{r} + \\frac{1}{r} \\left(r \\partial_{r} B^{r\\theta }  + B^{r\\theta }  - \\frac{\\partial_{\\phi } B^{\\phi \\phi } }{\\sin{\\left (\\theta  \\right )}}\\right) e_{\\theta } + \\frac{1}{r} \\left(r \\partial_{r} B^{r\\phi }  + B^{r\\phi }  + \\partial_{\\theta } B^{\\phi \\phi } \\right) e_{\\phi }"
       ]
      }
     ],
     "prompt_number": 15
    },
    {
     "cell_type": "code",
     "collapsed": false,
     "input": [
      "Fmt([o3d.grad,o3d.grad],0)"
     ],
     "language": "python",
     "metadata": {},
     "outputs": [
      {
       "latex": [
        "\\begin{equation*} \\begin{array}{c} \\left [ e_{x} \\frac{\\partial}{\\partial x} + e_{y} \\frac{\\partial}{\\partial y} + e_{z} \\frac{\\partial}{\\partial z}, \\right. \\\\  \\left. e_{x} \\frac{\\partial}{\\partial x} + e_{y} \\frac{\\partial}{\\partial y} + e_{z} \\frac{\\partial}{\\partial z}\\right ] \\\\ \\end{array}\\end{equation*}"
       ],
       "metadata": {},
       "output_type": "pyout",
       "prompt_number": 20,
       "text": [
        "<IPython.core.display.Latex at 0x7fe23438a110>"
       ]
      }
     ],
     "prompt_number": 20
    },
    {
     "cell_type": "code",
     "collapsed": false,
     "input": [
      "F.fmt = 3"
     ],
     "language": "python",
     "metadata": {},
     "outputs": [],
     "prompt_number": 21
    },
    {
     "cell_type": "code",
     "collapsed": false,
     "input": [
      "F"
     ],
     "language": "python",
     "metadata": {},
     "outputs": [
      {
       "latex": [
        " \\begin{align*}   F =& F^{r}  e_{r} \\\\  &  + F^{\\theta }  e_{\\theta } \\\\  &  + F^{\\phi }  e_{\\phi }  \\end{align*} \n"
       ],
       "metadata": {},
       "output_type": "pyout",
       "prompt_number": 22,
       "text": [
        " \\begin{align*}  & F^{r}  e_{r} \\\\  &  + F^{\\theta }  e_{\\theta } \\\\  &  + F^{\\phi }  e_{\\phi }  \\end{align*} \n"
       ]
      }
     ],
     "prompt_number": 22
    },
    {
     "cell_type": "code",
     "collapsed": false,
     "input": [
      "Fmt((F,F))"
     ],
     "language": "python",
     "metadata": {},
     "outputs": [
      {
       "latex": [
        "\\begin{equation*} \\begin{array}{c} \\left (  \\begin{array}{c}    F^{r}  e_{r} \\\\    + F^{\\theta }  e_{\\theta } \\\\    + F^{\\phi }  e_{\\phi }  \\\\ \\end{array}   , \\right. \\\\  \\left.  \\begin{array}{c}    F^{r}  e_{r} \\\\    + F^{\\theta }  e_{\\theta } \\\\    + F^{\\phi }  e_{\\phi }  \\\\ \\end{array}   \\right ) \\\\ \\end{array}\\end{equation*}"
       ],
       "metadata": {},
       "output_type": "pyout",
       "prompt_number": 24,
       "text": [
        "<IPython.core.display.Latex at 0x7fe23440a990>"
       ]
      }
     ],
     "prompt_number": 24
    },
    {
     "cell_type": "code",
     "collapsed": false,
     "input": [],
     "language": "python",
     "metadata": {},
     "outputs": [],
     "prompt_number": 24
    }
   ],
   "metadata": {}
  }
 ]
}